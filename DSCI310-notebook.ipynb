{
 "cells": [
  {
   "cell_type": "markdown",
   "id": "25a0a41e-f801-4995-876c-029da1d38f05",
   "metadata": {},
   "source": [
    "# First DSCI 310 File"
   ]
  },
  {
   "cell_type": "code",
   "execution_count": null,
   "id": "7633b5d3-3369-415c-869b-1f1b7cf3d039",
   "metadata": {},
   "outputs": [],
   "source": [
    "print(\"What am I doing here\")"
   ]
  },
  {
   "cell_type": "markdown",
   "id": "33164f17-b4e5-4a55-8a25-093e2260a54e",
   "metadata": {},
   "source": [
    "I think that version control is something modern society hasn't learned to value. It is a highly powerful tool which can be of big support to almost every computer user. Version control can make life easy because it allows us to work in different locations with our projects and it's free (at least our version of work). The frustrating part is that it is somehow \"complex\" (using terminal, and accessing programs or interfaces that look \"geeky\") and that it requires a level of knowledge that involves the so feared Terminal."
   ]
  }
 ],
 "metadata": {
  "kernelspec": {
   "display_name": "Python 3",
   "language": "python",
   "name": "python3"
  },
  "language_info": {
   "codemirror_mode": {
    "name": "ipython",
    "version": 3
   },
   "file_extension": ".py",
   "mimetype": "text/x-python",
   "name": "python",
   "nbconvert_exporter": "python",
   "pygments_lexer": "ipython3",
   "version": "3.9.5"
  }
 },
 "nbformat": 4,
 "nbformat_minor": 5
}
