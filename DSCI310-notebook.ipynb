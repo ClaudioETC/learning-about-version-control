{
 "cells": [
  {
   "cell_type": "markdown",
   "id": "25a0a41e-f801-4995-876c-029da1d38f05",
   "metadata": {},
   "source": [
    "# First DSCI 310 File"
   ]
  },
  {
   "cell_type": "code",
   "execution_count": null,
   "id": "7633b5d3-3369-415c-869b-1f1b7cf3d039",
   "metadata": {},
   "outputs": [],
   "source": [
    "print(\"What am I doing here\")"
   ]
  }
 ],
 "metadata": {
  "kernelspec": {
   "display_name": "Python 3",
   "language": "python",
   "name": "python3"
  },
  "language_info": {
   "codemirror_mode": {
    "name": "ipython",
    "version": 3
   },
   "file_extension": ".py",
   "mimetype": "text/x-python",
   "name": "python",
   "nbconvert_exporter": "python",
   "pygments_lexer": "ipython3",
   "version": "3.9.5"
  }
 },
 "nbformat": 4,
 "nbformat_minor": 5
}
